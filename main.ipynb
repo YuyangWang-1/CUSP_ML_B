{
 "cells": [
  {
   "cell_type": "code",
   "execution_count": 3,
   "metadata": {},
   "outputs": [
    {
     "name": "stdout",
     "output_type": "stream",
     "text": [
      "数据已保存为nyc_rainfall_noaa.csv\n"
     ]
    }
   ],
   "source": [
    "import requests\n",
    "import pandas as pd\n",
    "from datetime import datetime, timedelta\n",
    "\n",
    "# 替换为你的NOAA API Token\n",
    "NOAA_TOKEN = 'dapAnLKquBqwYoyjGFHsWrvFwJcqjwYb'\n",
    "\n",
    "# NOAA API的基础URL\n",
    "BASE_URL = 'https://www.ncdc.noaa.gov/cdo-web/api/v2/data'\n",
    "\n",
    "# 纽约的气象站ID（示例：中央公园的气象站ID）\n",
    "STATION_ID = 'GHCND:USW00094728'  # 替换为你需要的站点ID\n",
    "\n",
    "# 定义时间范围（一年）\n",
    "end_date = datetime.now()\n",
    "start_date = end_date - timedelta(days=365)\n",
    "\n",
    "# 定义API请求参数\n",
    "params = {\n",
    "    'datasetid': 'GHCND',  # 全球历史气候网络数据集\n",
    "    'stationid': STATION_ID,\n",
    "    'startdate': start_date.strftime('%Y-%m-%d'),\n",
    "    'enddate': end_date.strftime('%Y-%m-%d'),\n",
    "    'datatypeid': 'PRCP',  # PRCP表示降水量\n",
    "    'limit': 1000,  # 每次请求的最大数据量\n",
    "    'units': 'metric'  # 使用公制单位（毫米）\n",
    "}\n",
    "\n",
    "# 发送请求并获取数据\n",
    "headers = {'token': NOAA_TOKEN}\n",
    "response = requests.get(BASE_URL, headers=headers, params=params)\n",
    "\n",
    "if response.status_code != 200:\n",
    "    print(f\"请求失败，状态码：{response.status_code}\")\n",
    "    print(response.text)\n",
    "    exit()\n",
    "\n",
    "data = response.json()\n",
    "\n",
    "# 解析数据\n",
    "rainfall_data = []\n",
    "for record in data.get('results', []):\n",
    "    date = record['date'][:10]  # 提取日期部分\n",
    "    rainfall = record['value']  # 降水量（单位：毫米）\n",
    "    rainfall_data.append({'date': date, 'rainfall': rainfall})\n",
    "\n",
    "# 创建DataFrame并保存为CSV\n",
    "df = pd.DataFrame(rainfall_data)\n",
    "df.to_csv('nyc_rainfall_noaa.csv', index=False)\n",
    "\n",
    "print(\"数据已保存为nyc_rainfall_noaa.csv\")"
   ]
  }
 ],
 "metadata": {
  "kernelspec": {
   "display_name": "py39",
   "language": "python",
   "name": "python3"
  },
  "language_info": {
   "codemirror_mode": {
    "name": "ipython",
    "version": 3
   },
   "file_extension": ".py",
   "mimetype": "text/x-python",
   "name": "python",
   "nbconvert_exporter": "python",
   "pygments_lexer": "ipython3",
   "version": "3.9.19"
  }
 },
 "nbformat": 4,
 "nbformat_minor": 2
}
